{
  "nbformat": 4,
  "nbformat_minor": 0,
  "metadata": {
    "colab": {
      "name": "Bootcamp Datascience Alura - Modulo 03 - aula 05.ipynb",
      "provenance": [],
      "collapsed_sections": [
        "Lni1qhElJ1Wp"
      ]
    },
    "kernelspec": {
      "name": "python3",
      "display_name": "Python 3"
    }
  },
  "cells": [
    {
      "cell_type": "markdown",
      "metadata": {
        "id": "rzrN_QvmY3Ac"
      },
      "source": [
        "Usando a base de dados da [Pesquisa Nacional de Saúde do Escolar - PeNSE](https://www.ibge.gov.br/estatisticas/sociais/educacao/9134-pesquisa-nacional-de-saude-do-escolar.html) do IBGE.  \r\n",
        "Base de dados: [PENSE_2015_AMOSTRA2](https://www.ibge.gov.br/estatisticas/downloads-estatisticas.html?caminho=pense/2015/microdados/)."
      ]
    },
    {
      "cell_type": "markdown",
      "metadata": {
        "id": "Lni1qhElJ1Wp"
      },
      "source": [
        "# Importação dos dados"
      ]
    },
    {
      "cell_type": "code",
      "metadata": {
        "id": "RsOYlaM_Y3Ad"
      },
      "source": [
        "# imports\r\n",
        "import numpy as np\r\n",
        "import pandas as pd\r\n",
        "from zipfile import ZipFile\r\n",
        "import requests\r\n",
        "import io\r\n",
        "import matplotlib.pyplot as plt\r\n",
        "import seaborn as sns\r\n",
        "\r\n",
        "sns.set_style('whitegrid')"
      ],
      "execution_count": 1,
      "outputs": []
    },
    {
      "cell_type": "code",
      "metadata": {
        "id": "DnYGesaKY3Ae"
      },
      "source": [
        "# faz download do dataset\r\n",
        "url = 'https://github.com/LucasGabrielB/Alura-Bootcamp-Data-Science-Aplicada/raw/main/Modulo-03/datasets/PeNSE_2015_AMOSTRA2.zip'\r\n",
        "\r\n",
        "req = requests.get(url)\r\n",
        "zip_file = ZipFile(io.BytesIO(req.content))\r\n",
        "zip_file.extractall(\"datasets\")"
      ],
      "execution_count": 2,
      "outputs": []
    },
    {
      "cell_type": "code",
      "metadata": {
        "colab": {
          "base_uri": "https://localhost:8080/",
          "height": 0
        },
        "id": "mFwNxH7sY3Ae",
        "outputId": "f9137f2b-e671-4ebe-8e3b-07cf16e49fa4"
      },
      "source": [
        "df = pd.read_csv('/content/datasets/arquivos csv/PENSE_AMOSTRA2_ALUNO.CSV', sep=';', decimal=',')\r\n",
        "\r\n",
        "df.head()"
      ],
      "execution_count": 3,
      "outputs": [
        {
          "output_type": "execute_result",
          "data": {
            "text/html": [
              "<div>\n",
              "<style scoped>\n",
              "    .dataframe tbody tr th:only-of-type {\n",
              "        vertical-align: middle;\n",
              "    }\n",
              "\n",
              "    .dataframe tbody tr th {\n",
              "        vertical-align: top;\n",
              "    }\n",
              "\n",
              "    .dataframe thead th {\n",
              "        text-align: right;\n",
              "    }\n",
              "</style>\n",
              "<table border=\"1\" class=\"dataframe\">\n",
              "  <thead>\n",
              "    <tr style=\"text-align: right;\">\n",
              "      <th></th>\n",
              "      <th>ANOPESQ</th>\n",
              "      <th>PAIS</th>\n",
              "      <th>REGEOGR</th>\n",
              "      <th>VB00004</th>\n",
              "      <th>VB01001</th>\n",
              "      <th>VB01002</th>\n",
              "      <th>VB01003</th>\n",
              "      <th>VB01004</th>\n",
              "      <th>VB01005</th>\n",
              "      <th>VB01006</th>\n",
              "      <th>VB01007</th>\n",
              "      <th>VB01008A</th>\n",
              "      <th>VB01010A</th>\n",
              "      <th>VB01011</th>\n",
              "      <th>VB01012</th>\n",
              "      <th>VB01013</th>\n",
              "      <th>VB01014</th>\n",
              "      <th>VB01015A</th>\n",
              "      <th>VB01016</th>\n",
              "      <th>VB01017</th>\n",
              "      <th>VB01018</th>\n",
              "      <th>VB01019</th>\n",
              "      <th>VB01020A</th>\n",
              "      <th>VB01021</th>\n",
              "      <th>VB01022</th>\n",
              "      <th>VB01023</th>\n",
              "      <th>VB01024</th>\n",
              "      <th>VB01025</th>\n",
              "      <th>VB01026</th>\n",
              "      <th>VB02001</th>\n",
              "      <th>VB02002</th>\n",
              "      <th>VB02004A</th>\n",
              "      <th>VB02010</th>\n",
              "      <th>VB02011</th>\n",
              "      <th>VB02013</th>\n",
              "      <th>VB02017A</th>\n",
              "      <th>VB02018A</th>\n",
              "      <th>VB02019A</th>\n",
              "      <th>VB02020A</th>\n",
              "      <th>VB02021</th>\n",
              "      <th>...</th>\n",
              "      <th>VB11005</th>\n",
              "      <th>VB11006</th>\n",
              "      <th>VB11007</th>\n",
              "      <th>VB12001</th>\n",
              "      <th>VB12002</th>\n",
              "      <th>VB12003</th>\n",
              "      <th>VB13001</th>\n",
              "      <th>VB13002A</th>\n",
              "      <th>VB13004A</th>\n",
              "      <th>VB13005</th>\n",
              "      <th>VB13006</th>\n",
              "      <th>VB13007</th>\n",
              "      <th>VB13008</th>\n",
              "      <th>VB13009</th>\n",
              "      <th>VB14001</th>\n",
              "      <th>VB14002</th>\n",
              "      <th>VB16001A01</th>\n",
              "      <th>VB16001A02</th>\n",
              "      <th>VB16001A03</th>\n",
              "      <th>VB16001A04</th>\n",
              "      <th>VB16001A05</th>\n",
              "      <th>VB16001A06</th>\n",
              "      <th>VB16001A07</th>\n",
              "      <th>VB16001A08</th>\n",
              "      <th>VB17001</th>\n",
              "      <th>VB17002</th>\n",
              "      <th>VB17003</th>\n",
              "      <th>VB17004</th>\n",
              "      <th>VB17005</th>\n",
              "      <th>VB17006</th>\n",
              "      <th>ESTRATO_EXP</th>\n",
              "      <th>ESTRATOGEOREG</th>\n",
              "      <th>PESO</th>\n",
              "      <th>V0006</th>\n",
              "      <th>V0007</th>\n",
              "      <th>V0008</th>\n",
              "      <th>V0041</th>\n",
              "      <th>aluno</th>\n",
              "      <th>escola</th>\n",
              "      <th>turma</th>\n",
              "    </tr>\n",
              "  </thead>\n",
              "  <tbody>\n",
              "    <tr>\n",
              "      <th>0</th>\n",
              "      <td>2015</td>\n",
              "      <td>76</td>\n",
              "      <td>1</td>\n",
              "      <td>1</td>\n",
              "      <td>2</td>\n",
              "      <td>1</td>\n",
              "      <td>13</td>\n",
              "      <td>7</td>\n",
              "      <td>7</td>\n",
              "      <td>1</td>\n",
              "      <td>2</td>\n",
              "      <td>7</td>\n",
              "      <td>3</td>\n",
              "      <td>2</td>\n",
              "      <td>-1</td>\n",
              "      <td>1</td>\n",
              "      <td>1</td>\n",
              "      <td>1</td>\n",
              "      <td>1</td>\n",
              "      <td>1</td>\n",
              "      <td>2</td>\n",
              "      <td>4</td>\n",
              "      <td>2</td>\n",
              "      <td>4</td>\n",
              "      <td>1</td>\n",
              "      <td>2</td>\n",
              "      <td>2</td>\n",
              "      <td>5</td>\n",
              "      <td>1</td>\n",
              "      <td>8</td>\n",
              "      <td>3</td>\n",
              "      <td>4</td>\n",
              "      <td>3</td>\n",
              "      <td>6</td>\n",
              "      <td>6</td>\n",
              "      <td>1</td>\n",
              "      <td>6</td>\n",
              "      <td>1</td>\n",
              "      <td>-1</td>\n",
              "      <td>2</td>\n",
              "      <td>...</td>\n",
              "      <td>2</td>\n",
              "      <td>1</td>\n",
              "      <td>2</td>\n",
              "      <td>1</td>\n",
              "      <td>1</td>\n",
              "      <td>4</td>\n",
              "      <td>2</td>\n",
              "      <td>-1</td>\n",
              "      <td>3</td>\n",
              "      <td>1</td>\n",
              "      <td>1</td>\n",
              "      <td>-1</td>\n",
              "      <td>1</td>\n",
              "      <td>1</td>\n",
              "      <td>2</td>\n",
              "      <td>2</td>\n",
              "      <td>1</td>\n",
              "      <td>2</td>\n",
              "      <td>2</td>\n",
              "      <td>2</td>\n",
              "      <td>2</td>\n",
              "      <td>2</td>\n",
              "      <td>2</td>\n",
              "      <td>2</td>\n",
              "      <td>371.0</td>\n",
              "      <td>1570.0</td>\n",
              "      <td>37.1</td>\n",
              "      <td>157.0</td>\n",
              "      <td>2</td>\n",
              "      <td>1</td>\n",
              "      <td>1223</td>\n",
              "      <td>1</td>\n",
              "      <td>299.735235</td>\n",
              "      <td>1</td>\n",
              "      <td>2</td>\n",
              "      <td>4</td>\n",
              "      <td>1</td>\n",
              "      <td>1</td>\n",
              "      <td>1</td>\n",
              "      <td>296</td>\n",
              "    </tr>\n",
              "    <tr>\n",
              "      <th>1</th>\n",
              "      <td>2015</td>\n",
              "      <td>76</td>\n",
              "      <td>1</td>\n",
              "      <td>1</td>\n",
              "      <td>2</td>\n",
              "      <td>1</td>\n",
              "      <td>14</td>\n",
              "      <td>4</td>\n",
              "      <td>7</td>\n",
              "      <td>1</td>\n",
              "      <td>1</td>\n",
              "      <td>7</td>\n",
              "      <td>3</td>\n",
              "      <td>2</td>\n",
              "      <td>-1</td>\n",
              "      <td>1</td>\n",
              "      <td>1</td>\n",
              "      <td>1</td>\n",
              "      <td>1</td>\n",
              "      <td>1</td>\n",
              "      <td>2</td>\n",
              "      <td>2</td>\n",
              "      <td>2</td>\n",
              "      <td>4</td>\n",
              "      <td>1</td>\n",
              "      <td>2</td>\n",
              "      <td>2</td>\n",
              "      <td>5</td>\n",
              "      <td>3</td>\n",
              "      <td>8</td>\n",
              "      <td>2</td>\n",
              "      <td>1</td>\n",
              "      <td>8</td>\n",
              "      <td>8</td>\n",
              "      <td>6</td>\n",
              "      <td>1</td>\n",
              "      <td>1</td>\n",
              "      <td>5</td>\n",
              "      <td>-1</td>\n",
              "      <td>2</td>\n",
              "      <td>...</td>\n",
              "      <td>2</td>\n",
              "      <td>3</td>\n",
              "      <td>2</td>\n",
              "      <td>4</td>\n",
              "      <td>4</td>\n",
              "      <td>4</td>\n",
              "      <td>1</td>\n",
              "      <td>2</td>\n",
              "      <td>3</td>\n",
              "      <td>3</td>\n",
              "      <td>1</td>\n",
              "      <td>-1</td>\n",
              "      <td>1</td>\n",
              "      <td>1</td>\n",
              "      <td>2</td>\n",
              "      <td>2</td>\n",
              "      <td>2</td>\n",
              "      <td>2</td>\n",
              "      <td>2</td>\n",
              "      <td>1</td>\n",
              "      <td>2</td>\n",
              "      <td>2</td>\n",
              "      <td>2</td>\n",
              "      <td>2</td>\n",
              "      <td>502.0</td>\n",
              "      <td>1520.0</td>\n",
              "      <td>50.2</td>\n",
              "      <td>152.0</td>\n",
              "      <td>2</td>\n",
              "      <td>2</td>\n",
              "      <td>1223</td>\n",
              "      <td>1</td>\n",
              "      <td>355.170081</td>\n",
              "      <td>1</td>\n",
              "      <td>2</td>\n",
              "      <td>4</td>\n",
              "      <td>1</td>\n",
              "      <td>2</td>\n",
              "      <td>1</td>\n",
              "      <td>296</td>\n",
              "    </tr>\n",
              "    <tr>\n",
              "      <th>2</th>\n",
              "      <td>2015</td>\n",
              "      <td>76</td>\n",
              "      <td>1</td>\n",
              "      <td>1</td>\n",
              "      <td>1</td>\n",
              "      <td>4</td>\n",
              "      <td>13</td>\n",
              "      <td>6</td>\n",
              "      <td>7</td>\n",
              "      <td>1</td>\n",
              "      <td>1</td>\n",
              "      <td>5</td>\n",
              "      <td>5</td>\n",
              "      <td>2</td>\n",
              "      <td>-1</td>\n",
              "      <td>2</td>\n",
              "      <td>1</td>\n",
              "      <td>1</td>\n",
              "      <td>1</td>\n",
              "      <td>1</td>\n",
              "      <td>2</td>\n",
              "      <td>3</td>\n",
              "      <td>1</td>\n",
              "      <td>4</td>\n",
              "      <td>1</td>\n",
              "      <td>2</td>\n",
              "      <td>2</td>\n",
              "      <td>5</td>\n",
              "      <td>3</td>\n",
              "      <td>2</td>\n",
              "      <td>3</td>\n",
              "      <td>1</td>\n",
              "      <td>8</td>\n",
              "      <td>2</td>\n",
              "      <td>8</td>\n",
              "      <td>1</td>\n",
              "      <td>1</td>\n",
              "      <td>5</td>\n",
              "      <td>5</td>\n",
              "      <td>1</td>\n",
              "      <td>...</td>\n",
              "      <td>2</td>\n",
              "      <td>1</td>\n",
              "      <td>2</td>\n",
              "      <td>1</td>\n",
              "      <td>2</td>\n",
              "      <td>3</td>\n",
              "      <td>1</td>\n",
              "      <td>2</td>\n",
              "      <td>1</td>\n",
              "      <td>2</td>\n",
              "      <td>5</td>\n",
              "      <td>99</td>\n",
              "      <td>1</td>\n",
              "      <td>-1</td>\n",
              "      <td>2</td>\n",
              "      <td>2</td>\n",
              "      <td>1</td>\n",
              "      <td>1</td>\n",
              "      <td>1</td>\n",
              "      <td>1</td>\n",
              "      <td>1</td>\n",
              "      <td>1</td>\n",
              "      <td>1</td>\n",
              "      <td>1</td>\n",
              "      <td>482.0</td>\n",
              "      <td>1614.0</td>\n",
              "      <td>48.2</td>\n",
              "      <td>161.4</td>\n",
              "      <td>2</td>\n",
              "      <td>2</td>\n",
              "      <td>1223</td>\n",
              "      <td>1</td>\n",
              "      <td>299.735235</td>\n",
              "      <td>1</td>\n",
              "      <td>2</td>\n",
              "      <td>4</td>\n",
              "      <td>1</td>\n",
              "      <td>3</td>\n",
              "      <td>1</td>\n",
              "      <td>296</td>\n",
              "    </tr>\n",
              "    <tr>\n",
              "      <th>3</th>\n",
              "      <td>2015</td>\n",
              "      <td>76</td>\n",
              "      <td>1</td>\n",
              "      <td>1</td>\n",
              "      <td>1</td>\n",
              "      <td>1</td>\n",
              "      <td>14</td>\n",
              "      <td>6</td>\n",
              "      <td>7</td>\n",
              "      <td>1</td>\n",
              "      <td>1</td>\n",
              "      <td>7</td>\n",
              "      <td>4</td>\n",
              "      <td>2</td>\n",
              "      <td>-1</td>\n",
              "      <td>1</td>\n",
              "      <td>1</td>\n",
              "      <td>1</td>\n",
              "      <td>1</td>\n",
              "      <td>1</td>\n",
              "      <td>2</td>\n",
              "      <td>4</td>\n",
              "      <td>2</td>\n",
              "      <td>4</td>\n",
              "      <td>1</td>\n",
              "      <td>2</td>\n",
              "      <td>2</td>\n",
              "      <td>6</td>\n",
              "      <td>3</td>\n",
              "      <td>2</td>\n",
              "      <td>4</td>\n",
              "      <td>1</td>\n",
              "      <td>3</td>\n",
              "      <td>2</td>\n",
              "      <td>7</td>\n",
              "      <td>1</td>\n",
              "      <td>5</td>\n",
              "      <td>1</td>\n",
              "      <td>-1</td>\n",
              "      <td>2</td>\n",
              "      <td>...</td>\n",
              "      <td>2</td>\n",
              "      <td>1</td>\n",
              "      <td>2</td>\n",
              "      <td>2</td>\n",
              "      <td>2</td>\n",
              "      <td>4</td>\n",
              "      <td>1</td>\n",
              "      <td>10</td>\n",
              "      <td>3</td>\n",
              "      <td>1</td>\n",
              "      <td>2</td>\n",
              "      <td>-1</td>\n",
              "      <td>1</td>\n",
              "      <td>-1</td>\n",
              "      <td>2</td>\n",
              "      <td>2</td>\n",
              "      <td>1</td>\n",
              "      <td>2</td>\n",
              "      <td>2</td>\n",
              "      <td>2</td>\n",
              "      <td>1</td>\n",
              "      <td>2</td>\n",
              "      <td>2</td>\n",
              "      <td>2</td>\n",
              "      <td>694.0</td>\n",
              "      <td>1725.0</td>\n",
              "      <td>69.4</td>\n",
              "      <td>172.5</td>\n",
              "      <td>2</td>\n",
              "      <td>3</td>\n",
              "      <td>1223</td>\n",
              "      <td>1</td>\n",
              "      <td>355.170081</td>\n",
              "      <td>1</td>\n",
              "      <td>2</td>\n",
              "      <td>4</td>\n",
              "      <td>1</td>\n",
              "      <td>4</td>\n",
              "      <td>1</td>\n",
              "      <td>296</td>\n",
              "    </tr>\n",
              "    <tr>\n",
              "      <th>4</th>\n",
              "      <td>2015</td>\n",
              "      <td>76</td>\n",
              "      <td>1</td>\n",
              "      <td>1</td>\n",
              "      <td>1</td>\n",
              "      <td>1</td>\n",
              "      <td>13</td>\n",
              "      <td>9</td>\n",
              "      <td>7</td>\n",
              "      <td>1</td>\n",
              "      <td>2</td>\n",
              "      <td>5</td>\n",
              "      <td>4</td>\n",
              "      <td>2</td>\n",
              "      <td>-1</td>\n",
              "      <td>2</td>\n",
              "      <td>1</td>\n",
              "      <td>1</td>\n",
              "      <td>1</td>\n",
              "      <td>1</td>\n",
              "      <td>2</td>\n",
              "      <td>5</td>\n",
              "      <td>1</td>\n",
              "      <td>4</td>\n",
              "      <td>1</td>\n",
              "      <td>2</td>\n",
              "      <td>2</td>\n",
              "      <td>6</td>\n",
              "      <td>5</td>\n",
              "      <td>6</td>\n",
              "      <td>3</td>\n",
              "      <td>5</td>\n",
              "      <td>2</td>\n",
              "      <td>6</td>\n",
              "      <td>2</td>\n",
              "      <td>1</td>\n",
              "      <td>5</td>\n",
              "      <td>1</td>\n",
              "      <td>5</td>\n",
              "      <td>1</td>\n",
              "      <td>...</td>\n",
              "      <td>2</td>\n",
              "      <td>1</td>\n",
              "      <td>4</td>\n",
              "      <td>2</td>\n",
              "      <td>2</td>\n",
              "      <td>4</td>\n",
              "      <td>1</td>\n",
              "      <td>3</td>\n",
              "      <td>2</td>\n",
              "      <td>2</td>\n",
              "      <td>2</td>\n",
              "      <td>13</td>\n",
              "      <td>1</td>\n",
              "      <td>-1</td>\n",
              "      <td>1</td>\n",
              "      <td>2</td>\n",
              "      <td>1</td>\n",
              "      <td>1</td>\n",
              "      <td>1</td>\n",
              "      <td>1</td>\n",
              "      <td>1</td>\n",
              "      <td>1</td>\n",
              "      <td>1</td>\n",
              "      <td>1</td>\n",
              "      <td>789.0</td>\n",
              "      <td>1675.0</td>\n",
              "      <td>78.9</td>\n",
              "      <td>167.5</td>\n",
              "      <td>2</td>\n",
              "      <td>4</td>\n",
              "      <td>1223</td>\n",
              "      <td>1</td>\n",
              "      <td>299.735235</td>\n",
              "      <td>1</td>\n",
              "      <td>2</td>\n",
              "      <td>4</td>\n",
              "      <td>1</td>\n",
              "      <td>5</td>\n",
              "      <td>1</td>\n",
              "      <td>296</td>\n",
              "    </tr>\n",
              "  </tbody>\n",
              "</table>\n",
              "<p>5 rows × 181 columns</p>\n",
              "</div>"
            ],
            "text/plain": [
              "   ANOPESQ  PAIS  REGEOGR  VB00004  VB01001  ...  V0008  V0041  aluno  escola  turma\n",
              "0     2015    76        1        1        2  ...      4      1      1       1    296\n",
              "1     2015    76        1        1        2  ...      4      1      2       1    296\n",
              "2     2015    76        1        1        1  ...      4      1      3       1    296\n",
              "3     2015    76        1        1        1  ...      4      1      4       1    296\n",
              "4     2015    76        1        1        1  ...      4      1      5       1    296\n",
              "\n",
              "[5 rows x 181 columns]"
            ]
          },
          "metadata": {
            "tags": []
          },
          "execution_count": 3
        }
      ]
    },
    {
      "cell_type": "code",
      "metadata": {
        "colab": {
          "base_uri": "https://localhost:8080/"
        },
        "id": "X2iQkX08Y3Af",
        "outputId": "40237d1e-f3d5-4455-8913-1ae00d6d5197"
      },
      "source": [
        "df.shape"
      ],
      "execution_count": 4,
      "outputs": [
        {
          "output_type": "execute_result",
          "data": {
            "text/plain": [
              "(16556, 181)"
            ]
          },
          "metadata": {
            "tags": []
          },
          "execution_count": 4
        }
      ]
    },
    {
      "cell_type": "code",
      "metadata": {
        "colab": {
          "base_uri": "https://localhost:8080/"
        },
        "id": "az64MzpwY3Af",
        "outputId": "69dc9b78-06e0-4470-e01c-4b0e2e4ba89a"
      },
      "source": [
        "df.info(memory_usage='deep')"
      ],
      "execution_count": 5,
      "outputs": [
        {
          "output_type": "stream",
          "text": [
            "<class 'pandas.core.frame.DataFrame'>\n",
            "RangeIndex: 16556 entries, 0 to 16555\n",
            "Columns: 181 entries, ANOPESQ to turma\n",
            "dtypes: float64(10), int64(171)\n",
            "memory usage: 22.9 MB\n"
          ],
          "name": "stdout"
        }
      ]
    },
    {
      "cell_type": "markdown",
      "metadata": {
        "id": "Z0Mt5UHKeGs6"
      },
      "source": [
        "# Analisando os dados"
      ]
    },
    {
      "cell_type": "markdown",
      "metadata": {
        "id": "Lw1IlpqtvNyz"
      },
      "source": [
        "VB01001: Sexo do aluno  \r\n",
        "VB17004: Altura do aluno"
      ]
    },
    {
      "cell_type": "code",
      "metadata": {
        "colab": {
          "base_uri": "https://localhost:8080/"
        },
        "id": "p16H7WBet2lS",
        "outputId": "73aadc6f-ff31-45c5-8eb0-8f78bcc2fb36"
      },
      "source": [
        "df.groupby('VB01001')['VB17004'].mean()"
      ],
      "execution_count": 6,
      "outputs": [
        {
          "output_type": "execute_result",
          "data": {
            "text/plain": [
              "VB01001\n",
              "1    163.860758\n",
              "2    157.558617\n",
              "Name: VB17004, dtype: float64"
            ]
          },
          "metadata": {
            "tags": []
          },
          "execution_count": 6
        }
      ]
    },
    {
      "cell_type": "code",
      "metadata": {
        "colab": {
          "base_uri": "https://localhost:8080/"
        },
        "id": "GZJf2ZUsvZfv",
        "outputId": "d655d68b-224e-4151-c65f-dbd03f8a5b45"
      },
      "source": [
        "df.groupby(['VB01001', 'VB01003'])['VB17004'].mean()"
      ],
      "execution_count": 7,
      "outputs": [
        {
          "output_type": "execute_result",
          "data": {
            "text/plain": [
              "VB01001  VB01003\n",
              "1        11         147.617753\n",
              "         12         153.696764\n",
              "         13         160.719801\n",
              "         14         166.406922\n",
              "         15         170.336297\n",
              "         16         172.424933\n",
              "         17         173.814341\n",
              "         18         173.024561\n",
              "         19         172.143158\n",
              "2        11         149.522512\n",
              "         12         154.965021\n",
              "         13         157.673105\n",
              "         14         159.340320\n",
              "         15         160.759848\n",
              "         16         160.386527\n",
              "         17         160.907937\n",
              "         18         159.438462\n",
              "         19         158.977193\n",
              "Name: VB17004, dtype: float64"
            ]
          },
          "metadata": {
            "tags": []
          },
          "execution_count": 7
        }
      ]
    },
    {
      "cell_type": "code",
      "metadata": {
        "colab": {
          "base_uri": "https://localhost:8080/"
        },
        "id": "mbOG0tUnvoxj",
        "outputId": "a0dfca35-c673-4cd1-91a9-b4c0dc2f4c44"
      },
      "source": [
        "df_crosstab = pd.crosstab(index=[df['VB01001'], df['VB01003']],\r\n",
        "                            values=df['VB17004'],\r\n",
        "                            columns='',\r\n",
        "                            aggfunc= 'mean')\r\n",
        "\r\n",
        "df_crosstab.rename(index={1: 'Masculino', 2: 'Feminino'})"
      ],
      "execution_count": 8,
      "outputs": [
        {
          "output_type": "execute_result",
          "data": {
            "text/plain": [
              "VB01001    VB01003\n",
              "Masculino  11         147.617753\n",
              "           12         153.696764\n",
              "           13         160.719801\n",
              "           14         166.406922\n",
              "           15         170.336297\n",
              "           16         172.424933\n",
              "           17         173.814341\n",
              "           18         173.024561\n",
              "           19         172.143158\n",
              "Feminino   11         149.522512\n",
              "           12         154.965021\n",
              "           13         157.673105\n",
              "           14         159.340320\n",
              "           15         160.759848\n",
              "           16         160.386527\n",
              "           17         160.907937\n",
              "           18         159.438462\n",
              "           19         158.977193\n",
              "Name: __dummy__, dtype: float64"
            ]
          },
          "metadata": {
            "tags": []
          },
          "execution_count": 8
        }
      ]
    },
    {
      "cell_type": "markdown",
      "metadata": {
        "id": "ZPfiSKpdlxfP"
      },
      "source": [
        "## Analisando medidas de disperção"
      ]
    },
    {
      "cell_type": "code",
      "metadata": {
        "colab": {
          "base_uri": "https://localhost:8080/",
          "height": 204
        },
        "id": "-1UFyX_6eBI3",
        "outputId": "92289860-c775-4ca5-ebf8-0213c9ab9e4e"
      },
      "source": [
        "df['MEDIA_ALTURA'] = df['VB17004'].mean()\r\n",
        "df[['VB17004', 'MEDIA_ALTURA']].head()"
      ],
      "execution_count": 9,
      "outputs": [
        {
          "output_type": "execute_result",
          "data": {
            "text/html": [
              "<div>\n",
              "<style scoped>\n",
              "    .dataframe tbody tr th:only-of-type {\n",
              "        vertical-align: middle;\n",
              "    }\n",
              "\n",
              "    .dataframe tbody tr th {\n",
              "        vertical-align: top;\n",
              "    }\n",
              "\n",
              "    .dataframe thead th {\n",
              "        text-align: right;\n",
              "    }\n",
              "</style>\n",
              "<table border=\"1\" class=\"dataframe\">\n",
              "  <thead>\n",
              "    <tr style=\"text-align: right;\">\n",
              "      <th></th>\n",
              "      <th>VB17004</th>\n",
              "      <th>MEDIA_ALTURA</th>\n",
              "    </tr>\n",
              "  </thead>\n",
              "  <tbody>\n",
              "    <tr>\n",
              "      <th>0</th>\n",
              "      <td>157.0</td>\n",
              "      <td>160.713113</td>\n",
              "    </tr>\n",
              "    <tr>\n",
              "      <th>1</th>\n",
              "      <td>152.0</td>\n",
              "      <td>160.713113</td>\n",
              "    </tr>\n",
              "    <tr>\n",
              "      <th>2</th>\n",
              "      <td>161.4</td>\n",
              "      <td>160.713113</td>\n",
              "    </tr>\n",
              "    <tr>\n",
              "      <th>3</th>\n",
              "      <td>172.5</td>\n",
              "      <td>160.713113</td>\n",
              "    </tr>\n",
              "    <tr>\n",
              "      <th>4</th>\n",
              "      <td>167.5</td>\n",
              "      <td>160.713113</td>\n",
              "    </tr>\n",
              "  </tbody>\n",
              "</table>\n",
              "</div>"
            ],
            "text/plain": [
              "   VB17004  MEDIA_ALTURA\n",
              "0    157.0    160.713113\n",
              "1    152.0    160.713113\n",
              "2    161.4    160.713113\n",
              "3    172.5    160.713113\n",
              "4    167.5    160.713113"
            ]
          },
          "metadata": {
            "tags": []
          },
          "execution_count": 9
        }
      ]
    },
    {
      "cell_type": "markdown",
      "metadata": {
        "id": "dE-Z89GFl5jW"
      },
      "source": [
        "### Desvio médio absoluto"
      ]
    },
    {
      "cell_type": "code",
      "metadata": {
        "colab": {
          "base_uri": "https://localhost:8080/",
          "height": 204
        },
        "id": "HOVOCesjlppe",
        "outputId": "969ac9b4-88e5-4253-ce4b-f02b21a24921"
      },
      "source": [
        "df['DESVIO_MEDIO_ABSOLUTO'] = abs(df['MEDIA_ALTURA'] - df['VB17004'])\r\n",
        "df[['VB17004', 'MEDIA_ALTURA', 'DESVIO_MEDIO_ABSOLUTO']].head()"
      ],
      "execution_count": 13,
      "outputs": [
        {
          "output_type": "execute_result",
          "data": {
            "text/html": [
              "<div>\n",
              "<style scoped>\n",
              "    .dataframe tbody tr th:only-of-type {\n",
              "        vertical-align: middle;\n",
              "    }\n",
              "\n",
              "    .dataframe tbody tr th {\n",
              "        vertical-align: top;\n",
              "    }\n",
              "\n",
              "    .dataframe thead th {\n",
              "        text-align: right;\n",
              "    }\n",
              "</style>\n",
              "<table border=\"1\" class=\"dataframe\">\n",
              "  <thead>\n",
              "    <tr style=\"text-align: right;\">\n",
              "      <th></th>\n",
              "      <th>VB17004</th>\n",
              "      <th>MEDIA_ALTURA</th>\n",
              "      <th>DESVIO_MEDIO_ABSOLUTO</th>\n",
              "    </tr>\n",
              "  </thead>\n",
              "  <tbody>\n",
              "    <tr>\n",
              "      <th>0</th>\n",
              "      <td>157.0</td>\n",
              "      <td>160.713113</td>\n",
              "      <td>3.713113</td>\n",
              "    </tr>\n",
              "    <tr>\n",
              "      <th>1</th>\n",
              "      <td>152.0</td>\n",
              "      <td>160.713113</td>\n",
              "      <td>8.713113</td>\n",
              "    </tr>\n",
              "    <tr>\n",
              "      <th>2</th>\n",
              "      <td>161.4</td>\n",
              "      <td>160.713113</td>\n",
              "      <td>0.686887</td>\n",
              "    </tr>\n",
              "    <tr>\n",
              "      <th>3</th>\n",
              "      <td>172.5</td>\n",
              "      <td>160.713113</td>\n",
              "      <td>11.786887</td>\n",
              "    </tr>\n",
              "    <tr>\n",
              "      <th>4</th>\n",
              "      <td>167.5</td>\n",
              "      <td>160.713113</td>\n",
              "      <td>6.786887</td>\n",
              "    </tr>\n",
              "  </tbody>\n",
              "</table>\n",
              "</div>"
            ],
            "text/plain": [
              "   VB17004  MEDIA_ALTURA  DESVIO_MEDIO_ABSOLUTO\n",
              "0    157.0    160.713113               3.713113\n",
              "1    152.0    160.713113               8.713113\n",
              "2    161.4    160.713113               0.686887\n",
              "3    172.5    160.713113              11.786887\n",
              "4    167.5    160.713113               6.786887"
            ]
          },
          "metadata": {
            "tags": []
          },
          "execution_count": 13
        }
      ]
    },
    {
      "cell_type": "markdown",
      "metadata": {
        "id": "Eo7RtC1bn7Pz"
      },
      "source": [
        "### Quadrado da diferença"
      ]
    },
    {
      "cell_type": "code",
      "metadata": {
        "colab": {
          "base_uri": "https://localhost:8080/",
          "height": 204
        },
        "id": "RaK878Yol5Bk",
        "outputId": "a5a20568-a7a3-4ec4-f0a6-f000b8476838"
      },
      "source": [
        "df['DIFERENCA_QUADRADO'] = df['DESVIO_MEDIO_ABSOLUTO'] ** 2\r\n",
        "df[['VB17004', 'MEDIA_ALTURA', 'DIFERENCA_QUADRADO']].head()"
      ],
      "execution_count": 14,
      "outputs": [
        {
          "output_type": "execute_result",
          "data": {
            "text/html": [
              "<div>\n",
              "<style scoped>\n",
              "    .dataframe tbody tr th:only-of-type {\n",
              "        vertical-align: middle;\n",
              "    }\n",
              "\n",
              "    .dataframe tbody tr th {\n",
              "        vertical-align: top;\n",
              "    }\n",
              "\n",
              "    .dataframe thead th {\n",
              "        text-align: right;\n",
              "    }\n",
              "</style>\n",
              "<table border=\"1\" class=\"dataframe\">\n",
              "  <thead>\n",
              "    <tr style=\"text-align: right;\">\n",
              "      <th></th>\n",
              "      <th>VB17004</th>\n",
              "      <th>MEDIA_ALTURA</th>\n",
              "      <th>DIFERENCA_QUADRADO</th>\n",
              "    </tr>\n",
              "  </thead>\n",
              "  <tbody>\n",
              "    <tr>\n",
              "      <th>0</th>\n",
              "      <td>157.0</td>\n",
              "      <td>160.713113</td>\n",
              "      <td>13.787209</td>\n",
              "    </tr>\n",
              "    <tr>\n",
              "      <th>1</th>\n",
              "      <td>152.0</td>\n",
              "      <td>160.713113</td>\n",
              "      <td>75.918339</td>\n",
              "    </tr>\n",
              "    <tr>\n",
              "      <th>2</th>\n",
              "      <td>161.4</td>\n",
              "      <td>160.713113</td>\n",
              "      <td>0.471814</td>\n",
              "    </tr>\n",
              "    <tr>\n",
              "      <th>3</th>\n",
              "      <td>172.5</td>\n",
              "      <td>160.713113</td>\n",
              "      <td>138.930703</td>\n",
              "    </tr>\n",
              "    <tr>\n",
              "      <th>4</th>\n",
              "      <td>167.5</td>\n",
              "      <td>160.713113</td>\n",
              "      <td>46.061834</td>\n",
              "    </tr>\n",
              "  </tbody>\n",
              "</table>\n",
              "</div>"
            ],
            "text/plain": [
              "   VB17004  MEDIA_ALTURA  DIFERENCA_QUADRADO\n",
              "0    157.0    160.713113           13.787209\n",
              "1    152.0    160.713113           75.918339\n",
              "2    161.4    160.713113            0.471814\n",
              "3    172.5    160.713113          138.930703\n",
              "4    167.5    160.713113           46.061834"
            ]
          },
          "metadata": {
            "tags": []
          },
          "execution_count": 14
        }
      ]
    },
    {
      "cell_type": "markdown",
      "metadata": {
        "id": "767lzlbxpgm0"
      },
      "source": [
        "### Variância"
      ]
    },
    {
      "cell_type": "markdown",
      "metadata": {
        "id": "cGdEjb5hpybr"
      },
      "source": [
        "Populacional:"
      ]
    },
    {
      "cell_type": "code",
      "metadata": {
        "colab": {
          "base_uri": "https://localhost:8080/"
        },
        "id": "905qB10opeev",
        "outputId": "92a2110f-db82-4932-d26d-22a27830461b"
      },
      "source": [
        "variance_populational = df['DIFERENCA_QUADRADO'].mean()\r\n",
        "variance_populational"
      ],
      "execution_count": 20,
      "outputs": [
        {
          "output_type": "execute_result",
          "data": {
            "text/plain": [
              "106.9105945368652"
            ]
          },
          "metadata": {
            "tags": []
          },
          "execution_count": 20
        }
      ]
    },
    {
      "cell_type": "markdown",
      "metadata": {
        "id": "pR3muBcdp4f1"
      },
      "source": [
        "Amostral:"
      ]
    },
    {
      "cell_type": "code",
      "metadata": {
        "colab": {
          "base_uri": "https://localhost:8080/"
        },
        "id": "eVc1vgDmp7Zq",
        "outputId": "334961fd-76c3-4aec-dfb5-bf5dd951f338"
      },
      "source": [
        "variance_sample = (1/(len(df)-1)) * df['DIFERENCA_QUADRADO'].sum()\r\n",
        "variance_sample"
      ],
      "execution_count": 21,
      "outputs": [
        {
          "output_type": "execute_result",
          "data": {
            "text/plain": [
              "106.91705244049119"
            ]
          },
          "metadata": {
            "tags": []
          },
          "execution_count": 21
        }
      ]
    },
    {
      "cell_type": "markdown",
      "metadata": {
        "id": "_YatrNi_rPxd"
      },
      "source": [
        "### Desvio padrão"
      ]
    },
    {
      "cell_type": "markdown",
      "metadata": {
        "id": "z51xbK0brVQ2"
      },
      "source": [
        "Populacional:"
      ]
    },
    {
      "cell_type": "code",
      "metadata": {
        "colab": {
          "base_uri": "https://localhost:8080/"
        },
        "id": "jFec5wd6rQQ-",
        "outputId": "231d4362-f602-468c-cf44-b98d02a32c82"
      },
      "source": [
        "variance_populational ** (1/2)"
      ],
      "execution_count": 22,
      "outputs": [
        {
          "output_type": "execute_result",
          "data": {
            "text/plain": [
              "10.339757953495102"
            ]
          },
          "metadata": {
            "tags": []
          },
          "execution_count": 22
        }
      ]
    },
    {
      "cell_type": "markdown",
      "metadata": {
        "id": "56nYywLzrV8z"
      },
      "source": [
        "Amostral:"
      ]
    },
    {
      "cell_type": "code",
      "metadata": {
        "colab": {
          "base_uri": "https://localhost:8080/"
        },
        "id": "Y8vYZ9imrWbs",
        "outputId": "d213766e-3380-4b8f-ea65-d349443cb0c1"
      },
      "source": [
        "variance_sample ** (1/2)"
      ],
      "execution_count": 23,
      "outputs": [
        {
          "output_type": "execute_result",
          "data": {
            "text/plain": [
              "10.340070233827776"
            ]
          },
          "metadata": {
            "tags": []
          },
          "execution_count": 23
        }
      ]
    },
    {
      "cell_type": "markdown",
      "metadata": {
        "id": "BpHreuspX9yY"
      },
      "source": [
        "## Função que criar um dicionário para facilitar a busca da pergunta"
      ]
    },
    {
      "cell_type": "code",
      "metadata": {
        "id": "AUbNnSA_y3xz"
      },
      "source": [
        "df_dict = pd.read_excel('/content/datasets/Dicionario_PENSE_Microdados_AMOSTRA2.xls')\r\n",
        "\r\n",
        "def get_question_description(colum_name) -> dict:\r\n",
        "    ''' Retorna um dicionario contendo a descrição de uma determinada coluna do dataset do PeNSE,\r\n",
        "        seguindo o seguinte padrao (exemplo com colum_name='VB01001'):\r\n",
        "            {\r\n",
        "            'Descrição': {\r\n",
        "                '1': 'Masculino',\r\n",
        "                '2': 'Feminino'},\r\n",
        "            'Pergunta': 'Qual é o seu sexo?'\r\n",
        "            }\r\n",
        "\r\n",
        "        Parametros:\r\n",
        "            colum_name: nome da coluna do DataFrame\r\n",
        "    '''\r\n",
        "    return_dict = dict()\r\n",
        "\r\n",
        "    description_row = df_dict.query(f'VARIÁVEL == \"{colum_name}\"')['QUESTIONÁRIO DO ALUNO']\r\n",
        "    return_dict['Pergunta'] = description_row.values[0]\r\n",
        "   \r\n",
        "    values = list()\r\n",
        "    index = description_row.index[0] + 1\r\n",
        "    while True:\r\n",
        "        value = df_dict.iloc[index]['VARIÁVEL']\r\n",
        "        # removendo ' a ' pois alguns numeros estão em intervalos\r\n",
        "        # exemplo: 0 a 2999\r\n",
        "        if type(value) is int or value.replace(' a ', '').isnumeric():\r\n",
        "            values.append([value, df_dict.iloc[index]['QUESTIONÁRIO DO ALUNO']])\r\n",
        "            index += 1\r\n",
        "        else:\r\n",
        "            break\r\n",
        "    return_dict['Descrição'] = dict(values)\r\n",
        "    \r\n",
        "    return return_dict"
      ],
      "execution_count": 11,
      "outputs": []
    },
    {
      "cell_type": "code",
      "metadata": {
        "colab": {
          "base_uri": "https://localhost:8080/"
        },
        "id": "611isIlsLDmP",
        "outputId": "f63614a0-f743-4ba2-d4cd-4010e820a754"
      },
      "source": [
        "get_question_description('VB01001')"
      ],
      "execution_count": 12,
      "outputs": [
        {
          "output_type": "execute_result",
          "data": {
            "text/plain": [
              "{'Descrição': {'1': 'Masculino', '2': 'Feminino'},\n",
              " 'Pergunta': 'Qual é o seu sexo?'}"
            ]
          },
          "metadata": {
            "tags": []
          },
          "execution_count": 12
        }
      ]
    }
  ]
}